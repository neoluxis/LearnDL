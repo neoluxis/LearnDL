{
 "cells": [
  {
   "cell_type": "code",
   "execution_count": 1,
   "metadata": {},
   "outputs": [],
   "source": [
    "import cv2 as cv\n",
    "import numpy as np\n",
    "import json\n",
    "import os\n",
    "import matplotlib.pyplot as plt\n",
    "from tqdm import tqdm\n"
   ]
  },
  {
   "cell_type": "code",
   "execution_count": 2,
   "metadata": {},
   "outputs": [],
   "source": [
    "COLORS = [(0, 255, 0), (255, 0, 0)]\n",
    "CLASSES = ['pool', 'lack_of_fusion']"
   ]
  },
  {
   "cell_type": "code",
   "execution_count": 3,
   "metadata": {},
   "outputs": [],
   "source": [
    "def label2mask(json_file, root='mydata', show=False):\n",
    "    \"\"\"According to the json file, create a mask for the image.\n",
    "\n",
    "    Save mask file with same name in {root}/seg/ folder. \n",
    "\n",
    "    Save into .jpg format.  \n",
    "\n",
    "    Args:\n",
    "        json_file (str): Json file path\n",
    "        show (bool, optional): Show the mask. Defaults to False.\n",
    "    \"\"\"\n",
    "    os.makedirs(os.path.join(root, 'seg'), exist_ok=True)\n",
    "    try:\n",
    "        with open(json_file, 'r') as f:\n",
    "            data = json.load(f)\n",
    "    except:\n",
    "        with open(json_file, 'r', encoding='utf-8') as f:\n",
    "            data = json.load(f)\n",
    "    img = np.zeros(\n",
    "        (data['imageHeight'], data['imageWidth'], 3), dtype=np.uint8)\n",
    "    save_path = os.path.join(root, 'seg', os.path.basename(\n",
    "        json_file).split('.')[0] + '.png')\n",
    "    labels = data['shapes']\n",
    "    for label in labels:\n",
    "        points = np.array(label['points'], dtype=np.int32)\n",
    "        cv.fillPoly(img, [points], COLORS[CLASSES.index(label['label'])])\n",
    "    cv.imwrite(save_path, img)\n",
    "    if show:\n",
    "        plt.imshow(img)\n",
    "        plt.show()\n",
    "\n",
    "\n",
    "def convert_img(root='mydata'):\n",
    "    \"\"\"Convert images into .jpg format.\n",
    "\n",
    "    Args:\n",
    "        root (str, optional): _description_. Defaults to 'mydata'.\n",
    "    \"\"\"\n",
    "    os.makedirs(os.path.join(root, 'images'), exist_ok=True)\n",
    "    for img_file in tqdm(os.listdir(os.path.join(root, 'bmp'))):\n",
    "        img = cv.imread(os.path.join(root, 'bmp', img_file))\n",
    "        cv.imwrite(os.path.join(\n",
    "            root, 'images', img_file.split('.')[0] + '.jpg'), img)\n",
    "\n",
    "\n",
    "# for json_file in tqdm(os.listdir('mydata/Json')):\n",
    "#     label2mask(os.path.join('mydata/Json', json_file))\n",
    "# convert_img()"
   ]
  },
  {
   "cell_type": "code",
   "execution_count": 4,
   "metadata": {},
   "outputs": [],
   "source": [
    "def show_images(imgs, num_rows, num_cols, titles=None, scale=1.5):\n",
    "    \"\"\" Display a list of images.\n",
    "    \n",
    "    Args:\n",
    "        imgs (list): List of images\n",
    "        num_rows (int): Number of rows\n",
    "        num_cols (int): Number of columns\n",
    "        titles (list, optional): List of titles. Defaults to None.\n",
    "        scale (float, optional): Scale. Defaults to 1.5.\n",
    "        \n",
    "    Returns:\n",
    "        list: List of axes\n",
    "    \"\"\"\n",
    "    figsize = (num_cols * scale, num_rows * scale)\n",
    "    _, axes = plt.subplots(num_rows, num_cols, figsize=figsize)\n",
    "    axes = axes.flatten()\n",
    "    for i, (ax, img) in enumerate(zip(axes, imgs)):\n",
    "        ax.imshow(img.permute(1, 2, 0))\n",
    "        ax.axes.get_xaxis().set_visible(False)\n",
    "        ax.axes.get_yaxis().set_visible(False)\n",
    "        if titles:\n",
    "            ax.set_title(titles[i])\n",
    "    return axes"
   ]
  },
  {
   "cell_type": "code",
   "execution_count": null,
   "metadata": {},
   "outputs": [],
   "source": []
  }
 ],
 "metadata": {
  "kernelspec": {
   "display_name": ".venv",
   "language": "python",
   "name": "python3"
  },
  "language_info": {
   "codemirror_mode": {
    "name": "ipython",
    "version": 3
   },
   "file_extension": ".py",
   "mimetype": "text/x-python",
   "name": "python",
   "nbconvert_exporter": "python",
   "pygments_lexer": "ipython3",
   "version": "3.11.2"
  }
 },
 "nbformat": 4,
 "nbformat_minor": 2
}
