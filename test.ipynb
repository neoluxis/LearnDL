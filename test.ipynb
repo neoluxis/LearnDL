{
 "cells": [
  {
   "cell_type": "code",
   "execution_count": 61,
   "metadata": {},
   "outputs": [],
   "source": [
    "%matplotlib inline\n",
    "import torch\n",
    "import torchvision\n",
    "import torch.nn as nn\n",
    "from torch.utils.data import DataLoader\n",
    "from torchvision import transforms, datasets\n",
    "import matplotlib.pyplot as plt\n",
    "\n",
    "from tqdm import tqdm"
   ]
  },
  {
   "cell_type": "code",
   "execution_count": 62,
   "metadata": {},
   "outputs": [],
   "source": [
    "device = torch.device(\"cuda:0\" if torch.cuda.is_available() else \"cpu\")\n",
    "\n",
    "transform = transforms.Compose([\n",
    "    transforms.ToTensor(),\n",
    "    ])\n",
    "\n",
    "# Fashion MNIST dataset\n",
    "trainset = datasets.FashionMNIST(root='./data',\n",
    "                            train=True, \n",
    "                            transform=transform,\n",
    "                            download=True)\n",
    "testset = datasets.FashionMNIST(root='./data', train=False, download=True, transform=transform)"
   ]
  },
  {
   "cell_type": "markdown",
   "metadata": {},
   "source": [
    "- 使用 `torch.utils.data.random_split(trainset, [train_size, valid_size])` 划分训练集和验证集"
   ]
  },
  {
   "cell_type": "code",
   "execution_count": 63,
   "metadata": {},
   "outputs": [],
   "source": [
    "train_size = int(0.8 * len(trainset))  # 训练集和验证集8:2划分\n",
    "valid_size = len(trainset) - train_size\n",
    "trainset, validset = torch.utils.data.random_split(trainset, [train_size, valid_size])"
   ]
  },
  {
   "cell_type": "markdown",
   "metadata": {},
   "source": [
    "- 使用 `DataLoader` 加载数据集"
   ]
  },
  {
   "cell_type": "code",
   "execution_count": 64,
   "metadata": {},
   "outputs": [
    {
     "data": {
      "text/plain": [
       "(94, 24, 20)"
      ]
     },
     "execution_count": 64,
     "metadata": {},
     "output_type": "execute_result"
    }
   ],
   "source": [
    "# Data loader\n",
    "train_loader = DataLoader(dataset=trainset,\n",
    "                          batch_size=512,\n",
    "                          shuffle=True)\n",
    "valid_loader = DataLoader(dataset=validset,\n",
    "                            batch_size=512,\n",
    "                            shuffle=True)\n",
    "test_loader = DataLoader(dataset=testset,\n",
    "                            batch_size=512,\n",
    "                            shuffle=False)\n",
    "\n",
    "len(train_loader), len(valid_loader), len(test_loader)"
   ]
  },
  {
   "cell_type": "code",
   "execution_count": 65,
   "metadata": {},
   "outputs": [
    {
     "data": {
      "text/plain": [
       "Sequential(\n",
       "  (0): Flatten(start_dim=1, end_dim=-1)\n",
       "  (1): Linear(in_features=784, out_features=256, bias=True)\n",
       "  (2): ReLU()\n",
       "  (3): Linear(in_features=256, out_features=10, bias=True)\n",
       ")"
      ]
     },
     "execution_count": 65,
     "metadata": {},
     "output_type": "execute_result"
    }
   ],
   "source": [
    "net = nn.Sequential(\n",
    "    nn.Flatten(),\n",
    "    nn.Linear(28*28, 256),\n",
    "    nn.ReLU(),\n",
    "    nn.Linear(256, 10)\n",
    ").to(device)\n",
    "\n",
    "def init_weights(m):\n",
    "    if type(m) == nn.Linear:\n",
    "        torch.nn.init.xavier_uniform_(m.weight)\n",
    "        m.bias.data.fill_(0.01)\n",
    "        \n",
    "net.apply(init_weights)"
   ]
  },
  {
   "cell_type": "code",
   "execution_count": 66,
   "metadata": {},
   "outputs": [
    {
     "name": "stderr",
     "output_type": "stream",
     "text": [
      "100%|██████████| 94/94 [00:07<00:00, 12.04it/s]\n",
      "100%|██████████| 24/24 [00:02<00:00, 11.55it/s]\n"
     ]
    },
    {
     "name": "stdout",
     "output_type": "stream",
     "text": [
      "epoch 0, train loss 2.3229, valid loss 2.2215, train acc 0.180, valid acc 0.185\n"
     ]
    },
    {
     "name": "stderr",
     "output_type": "stream",
     "text": [
      "100%|██████████| 94/94 [00:07<00:00, 13.08it/s]\n",
      "100%|██████████| 24/24 [00:01<00:00, 14.48it/s]\n"
     ]
    },
    {
     "name": "stdout",
     "output_type": "stream",
     "text": [
      "epoch 1, train loss 2.1469, valid loss 2.0750, train acc 0.308, valid acc 0.314\n"
     ]
    },
    {
     "name": "stderr",
     "output_type": "stream",
     "text": [
      "100%|██████████| 94/94 [00:07<00:00, 13.32it/s]\n",
      "100%|██████████| 24/24 [00:01<00:00, 13.26it/s]\n"
     ]
    },
    {
     "name": "stdout",
     "output_type": "stream",
     "text": [
      "epoch 2, train loss 2.0165, valid loss 1.9611, train acc 0.427, valid acc 0.433\n"
     ]
    },
    {
     "name": "stderr",
     "output_type": "stream",
     "text": [
      "100%|██████████| 94/94 [00:07<00:00, 13.22it/s]\n",
      "100%|██████████| 24/24 [00:01<00:00, 13.73it/s]\n"
     ]
    },
    {
     "name": "stdout",
     "output_type": "stream",
     "text": [
      "epoch 3, train loss 1.9120, valid loss 1.8666, train acc 0.509, valid acc 0.515\n"
     ]
    },
    {
     "name": "stderr",
     "output_type": "stream",
     "text": [
      "100%|██████████| 94/94 [00:07<00:00, 12.98it/s]\n",
      "100%|██████████| 24/24 [00:01<00:00, 14.78it/s]\n"
     ]
    },
    {
     "name": "stdout",
     "output_type": "stream",
     "text": [
      "epoch 4, train loss 1.8233, valid loss 1.7847, train acc 0.549, valid acc 0.553\n"
     ]
    },
    {
     "name": "stderr",
     "output_type": "stream",
     "text": [
      "100%|██████████| 94/94 [00:07<00:00, 13.12it/s]\n",
      "100%|██████████| 24/24 [00:01<00:00, 14.46it/s]\n"
     ]
    },
    {
     "name": "stdout",
     "output_type": "stream",
     "text": [
      "epoch 5, train loss 1.7454, valid loss 1.7121, train acc 0.574, valid acc 0.577\n"
     ]
    },
    {
     "name": "stderr",
     "output_type": "stream",
     "text": [
      "100%|██████████| 94/94 [00:08<00:00, 10.65it/s]\n",
      "100%|██████████| 24/24 [00:03<00:00,  7.79it/s]\n"
     ]
    },
    {
     "name": "stdout",
     "output_type": "stream",
     "text": [
      "epoch 6, train loss 1.6760, valid loss 1.6470, train acc 0.591, valid acc 0.593\n"
     ]
    },
    {
     "name": "stderr",
     "output_type": "stream",
     "text": [
      "100%|██████████| 94/94 [00:06<00:00, 13.70it/s]\n",
      "100%|██████████| 24/24 [00:01<00:00, 15.01it/s]\n"
     ]
    },
    {
     "name": "stdout",
     "output_type": "stream",
     "text": [
      "epoch 7, train loss 1.6136, valid loss 1.5882, train acc 0.603, valid acc 0.606\n"
     ]
    },
    {
     "name": "stderr",
     "output_type": "stream",
     "text": [
      "100%|██████████| 94/94 [00:07<00:00, 12.33it/s]\n",
      "100%|██████████| 24/24 [00:01<00:00, 13.18it/s]\n"
     ]
    },
    {
     "name": "stdout",
     "output_type": "stream",
     "text": [
      "epoch 8, train loss 1.5573, valid loss 1.5351, train acc 0.614, valid acc 0.615\n"
     ]
    },
    {
     "name": "stderr",
     "output_type": "stream",
     "text": [
      "100%|██████████| 94/94 [00:07<00:00, 12.55it/s]\n",
      "100%|██████████| 24/24 [00:01<00:00, 14.22it/s]\n"
     ]
    },
    {
     "name": "stdout",
     "output_type": "stream",
     "text": [
      "epoch 9, train loss 1.5065, valid loss 1.4868, train acc 0.622, valid acc 0.623\n"
     ]
    },
    {
     "data": {
      "image/png": "[encoded data removed]",
      "text/plain": [
       "<Figure size 640x480 with 2 Axes>"
      ]
     },
     "metadata": {},
     "output_type": "display_data"
    }
   ],
   "source": [
    "criteria = nn.CrossEntropyLoss()\n",
    "optimizer = torch.optim.SGD(net.parameters(), lr=0.0006)\n",
    "\n",
    "num_epochs = 10\n",
    "\n",
    "def evaluate_accuracy(net, data_iter):\n",
    "    acc_sum, n = 0.0, 0\n",
    "    for X, y in data_iter:\n",
    "        X, y = X.to(device), y.to(device)\n",
    "        acc_sum += (net(X).argmax(dim=1) == y).float().sum().cpu().item()\n",
    "        n += y.shape[0]\n",
    "    return acc_sum / n\n",
    "\n",
    "def train(net, train_iter, valid_iter, loss, num_epochs, trainer):\n",
    "    train_loss, valid_loss = [], []\n",
    "    train_acc, valid_acc = [], []\n",
    "    for epoch in range(num_epochs):\n",
    "        net.train()\n",
    "        running_train_loss = 0.0\n",
    "        for X, y in tqdm(train_iter):\n",
    "            X, y = X.to(device), y.to(device)\n",
    "            trainer.zero_grad()\n",
    "            l = loss(net(X), y)\n",
    "            l.backward()\n",
    "            trainer.step()\n",
    "            running_train_loss += l.item() * X.size(0)  # 累加批次损失\n",
    "        # 计算平均训练损失\n",
    "        train_loss.append(running_train_loss / len(train_iter.dataset))\n",
    "        # 计算验证损失和准确率\n",
    "        net.eval()\n",
    "        running_valid_loss = 0.0\n",
    "        with torch.no_grad():\n",
    "            for X, y in tqdm(valid_iter):\n",
    "                X, y = X.to(device), y.to(device)\n",
    "                l = loss(net(X), y)\n",
    "                running_valid_loss += l.item() * X.size(0)  # 累加批次损失\n",
    "            valid_loss.append(running_valid_loss / len(valid_iter.dataset))\n",
    "            train_acc.append(evaluate_accuracy(net, train_iter))\n",
    "            valid_acc.append(evaluate_accuracy(net, valid_iter))\n",
    "        if epoch % 1 == 0:\n",
    "            print('epoch %d, train loss %.4f, valid loss %.4f, train acc %.3f, valid acc %.3f'\n",
    "                  % (epoch, train_loss[-1], valid_loss[-1], train_acc[-1], valid_acc[-1]))\n",
    "    # 绘制损失曲线\n",
    "    plt.subplot(1, 2, 1)\n",
    "    plt.plot(train_loss, label='train')\n",
    "    plt.plot(valid_loss, label='valid')\n",
    "    plt.xlabel('epoch')\n",
    "    plt.ylabel('loss')\n",
    "    plt.legend()\n",
    "    # 绘制准确率曲线\n",
    "    plt.subplot(1, 2, 2)\n",
    "    plt.plot(train_acc, label='train')\n",
    "    plt.plot(valid_acc, label='valid')\n",
    "    plt.xlabel('epoch')\n",
    "    plt.ylabel('accuracy')\n",
    "    plt.legend()\n",
    "    plt.show()\n",
    "    \n",
    "train(net, train_loader, valid_loader, criteria, num_epochs, optimizer)"
   ]
  },
  {
   "cell_type": "code",
   "execution_count": null,
   "metadata": {},
   "outputs": [],
   "source": []
  }
 ],
 "metadata": {
  "kernelspec": {
   "display_name": ".venv",
   "language": "python",
   "name": "python3"
  },
  "language_info": {
   "codemirror_mode": {
    "name": "ipython",
    "version": 3
   },
   "file_extension": ".py",
   "mimetype": "text/x-python",
   "name": "python",
   "nbconvert_exporter": "python",
   "pygments_lexer": "ipython3",
   "version": "3.11.2"
  }
 },
 "nbformat": 4,
 "nbformat_minor": 2
}
