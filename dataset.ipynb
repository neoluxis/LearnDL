{
 "cells": [
  {
   "cell_type": "code",
   "execution_count": 8,
   "metadata": {},
   "outputs": [],
   "source": [
    "import torch\n",
    "import torchvision\n",
    "import torchvision.transforms as T\n",
    "from torch import nn\n",
    "from torch.utils.data import DataLoader, Dataset\n",
    "from torch.nn import functional as F\n",
    "from torchvision import transforms\n",
    "\n",
    "from tqdm import tqdm\n",
    "import os, time\n",
    "import json\n",
    "\n",
    "import cv2 as cv\n",
    "import numpy as np\n",
    "import matplotlib.pyplot as plt"
   ]
  },
  {
   "cell_type": "markdown",
   "metadata": {},
   "source": [
    "# 转换数据集\n",
    "\n",
    "## 数据集文件夹结构：\n",
    "\n",
    "- DatasetRoot:\n",
    "    - bmp: bmp 原始图片\n",
    "    - json: json 原始标注文件\n",
    "    - images: 转换成 jpg 格式的图片\n",
    "    - segm: 分割后的图片\n",
    "\n",
    "## 转换步骤\n",
    "\n",
    "1. 读取bmp文件夹下的图片，转换成jpg格式，保存到images文件夹下。\n",
    "2. 读取json文件夹下的标注文件，转换成分割后的图片，保存到segm文件夹下。\n",
    "\n"
   ]
  },
  {
   "cell_type": "code",
   "execution_count": 4,
   "metadata": {},
   "outputs": [],
   "source": [
    "def show_images(imgs, num_rows, num_cols, titles=None, scale=1.5):\n",
    "    \"\"\" Display a list of images.\n",
    "    \n",
    "    Args:\n",
    "        imgs (list): List of images\n",
    "        num_rows (int): Number of rows\n",
    "        num_cols (int): Number of columns\n",
    "        titles (list, optional): List of titles. Defaults to None.\n",
    "        scale (float, optional): Scale. Defaults to 1.5.\n",
    "        \n",
    "    Returns:\n",
    "        list: List of axes\n",
    "    \"\"\"\n",
    "    figsize = (num_cols * scale, num_rows * scale)\n",
    "    _, axes = plt.subplots(num_rows, num_cols, figsize=figsize)\n",
    "    axes = axes.flatten()\n",
    "    for i, (ax, img) in enumerate(zip(axes, imgs)):\n",
    "        ax.imshow(img.permute(1, 2, 0))\n",
    "        ax.axes.get_xaxis().set_visible(False)\n",
    "        ax.axes.get_yaxis().set_visible(False)\n",
    "        if titles:\n",
    "            ax.set_title(titles[i])\n",
    "    return axes"
   ]
  },
  {
   "cell_type": "code",
   "execution_count": 5,
   "metadata": {},
   "outputs": [],
   "source": [
    "COLORS = [(0, 255, 0), (255, 0, 0)]\n",
    "CLASSES = ['pool', 'lack_of_fusion']"
   ]
  },
  {
   "cell_type": "code",
   "execution_count": 7,
   "metadata": {},
   "outputs": [
    {
     "name": "stderr",
     "output_type": "stream",
     "text": [
      "100%|██████████| 1177/1177 [00:19<00:00, 60.32it/s]\n",
      "100%|██████████| 1177/1177 [00:27<00:00, 42.60it/s]\n"
     ]
    }
   ],
   "source": [
    "def label2mask(json_file, root='mydata', show=False):\n",
    "    \"\"\"According to the json file, create a mask for the image.\n",
    "\n",
    "    Save mask file with same name in {root}/seg/ folder. \n",
    "\n",
    "    Save into .jpg format.  \n",
    "\n",
    "    Args:\n",
    "        json_file (str): Json file path\n",
    "        show (bool, optional): Show the mask. Defaults to False.\n",
    "    \"\"\"\n",
    "    os.makedirs(os.path.join(root, 'segm'), exist_ok=True)\n",
    "    try:\n",
    "        with open(json_file, 'r') as f:\n",
    "            data = json.load(f)\n",
    "    except:\n",
    "        with open(json_file, 'r', encoding='utf-8') as f:\n",
    "            data = json.load(f)\n",
    "    img = np.zeros(\n",
    "        (data['imageHeight'], data['imageWidth'], 3), dtype=np.uint8)\n",
    "    save_path = os.path.join(root, 'segm', os.path.basename(\n",
    "        json_file).split('.')[0] + '.png')\n",
    "    labels = data['shapes']\n",
    "    for label in labels:\n",
    "        points = np.array(label['points'], dtype=np.int32)\n",
    "        cv.fillPoly(img, [points], COLORS[CLASSES.index(label['label'])])\n",
    "    cv.imwrite(save_path, img)\n",
    "    if show:\n",
    "        plt.imshow(img)\n",
    "        plt.show()\n",
    "\n",
    "\n",
    "def convert_img(root='mydata'):\n",
    "    \"\"\"Convert images into .jpg format.\n",
    "\n",
    "    Args:\n",
    "        root (str, optional): _description_. Defaults to 'mydata'.\n",
    "    \"\"\"\n",
    "    os.makedirs(os.path.join(root, 'Images'), exist_ok=True)\n",
    "    for img_file in tqdm(os.listdir(os.path.join(root, 'bmp'))):\n",
    "        img = cv.imread(os.path.join(root, 'bmp', img_file))\n",
    "        cv.imwrite(os.path.join(\n",
    "            root, 'Images', img_file.split('.')[0] + '.jpg'), img)\n",
    "\n",
    "\n",
    "# for json_file in tqdm(os.listdir('mydata/jsons')):\n",
    "#     label2mask(os.path.join('mydata/jsons', json_file))\n",
    "# convert_img()"
   ]
  },
  {
   "cell_type": "code",
   "execution_count": null,
   "metadata": {},
   "outputs": [],
   "source": []
  }
 ],
 "metadata": {
  "kernelspec": {
   "display_name": ".venv",
   "language": "python",
   "name": "python3"
  },
  "language_info": {
   "codemirror_mode": {
    "name": "ipython",
    "version": 3
   },
   "file_extension": ".py",
   "mimetype": "text/x-python",
   "name": "python",
   "nbconvert_exporter": "python",
   "pygments_lexer": "ipython3",
   "version": "3.11.2"
  }
 },
 "nbformat": 4,
 "nbformat_minor": 2
}
